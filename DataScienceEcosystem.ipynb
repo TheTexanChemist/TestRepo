{
  "metadata": {
    "kernelspec": {
      "name": "python",
      "display_name": "Python (Pyodide)",
      "language": "python"
    },
    "language_info": {
      "codemirror_mode": {
        "name": "python",
        "version": 3
      },
      "file_extension": ".py",
      "mimetype": "text/x-python",
      "name": "python",
      "nbconvert_exporter": "python",
      "pygments_lexer": "ipython3",
      "version": "3.8"
    }
  },
  "nbformat_minor": 5,
  "nbformat": 4,
  "cells": [
    {
      "id": "c9dbc973-fd71-412c-b777-0ee536569eb6",
      "cell_type": "markdown",
      "source": "# Data Science Tools and Ecosystem",
      "metadata": {}
    },
    {
      "id": "afdbb30d-752e-41e5-91c6-ac14a1ed9593",
      "cell_type": "markdown",
      "source": "## Author\nTanner Roberson",
      "metadata": {}
    },
    {
      "id": "c9842ac3-d1fb-42ef-90f8-c0e854315313",
      "cell_type": "markdown",
      "source": "In this notebook, Data Science Tools and Ecosystem are summarized.",
      "metadata": {}
    },
    {
      "id": "40a2d7ab-6fbc-4e9b-a288-c09bcadd219e",
      "cell_type": "markdown",
      "source": "**Objectives:**\n* List popular languages for Data Science\n* List some commonly used libraries\n* List some development environment open source tools",
      "metadata": {}
    },
    {
      "id": "56e640da-636c-4418-bc00-8dc2bc901047",
      "cell_type": "markdown",
      "source": "Some of the popular languages that Data Scientists use are:\n1. Python\n2. R\n3. SQL",
      "metadata": {}
    },
    {
      "id": "b9df1434-9c0f-4694-aa39-60563516a726",
      "cell_type": "markdown",
      "source": "Some of the commonly used libraries used by Data Scientists include:\n1. dplyr\n2. stringr\n3. ggplot\n4. caret",
      "metadata": {}
    },
    {
      "id": "fba64abf-b8c8-4fb0-aeef-e6b85d53fd7e",
      "cell_type": "markdown",
      "source": "|Data Science Tools|\n|--------------|\n|Jupyter|\n|RStudio|\n|GitHub|",
      "metadata": {}
    },
    {
      "id": "e6353277-3117-4f0f-b9b3-6a28b80fe7e2",
      "cell_type": "markdown",
      "source": "### Below are a few examples of evaluating arithmetic expressions in Python",
      "metadata": {}
    },
    {
      "id": "000eab77-f0b1-4618-8f12-d669e8418fb9",
      "cell_type": "code",
      "source": "#This a simple arithmetic expression to mutiply then add integers\n(3*4)+5",
      "metadata": {
        "trusted": true
      },
      "outputs": [
        {
          "execution_count": 1,
          "output_type": "execute_result",
          "data": {
            "text/plain": "17"
          },
          "metadata": {}
        }
      ],
      "execution_count": 1
    },
    {
      "id": "f100e903-37f9-4d9f-998f-f12371b85a5d",
      "cell_type": "code",
      "source": "#This will convert 200 minutes to hours by diving by 60\n200/60",
      "metadata": {
        "trusted": true
      },
      "outputs": [
        {
          "execution_count": 6,
          "output_type": "execute_result",
          "data": {
            "text/plain": "3.3333333333333335"
          },
          "metadata": {}
        }
      ],
      "execution_count": 6
    },
    {
      "id": "57540181-9beb-4ede-992b-42493dc22729",
      "cell_type": "markdown",
      "source": "",
      "metadata": {}
    }
  ]
}